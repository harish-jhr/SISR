{
 "cells": [
  {
   "cell_type": "code",
   "execution_count": null,
   "id": "2a0e2d7d",
   "metadata": {},
   "outputs": [],
   "source": [
    "#necessary imports:\n",
    "import os\n",
    "import cv2\n",
    "import numpy as np\n",
    "import matplotlib.pyplot as plt\n",
    "from tqdm import tqdm\n",
    "import torch\n",
    "import torch.nn as nn\n",
    "import torch.optim as optim\n",
    "from torch.utils.data import Dataset, DataLoader\n",
    "from torchvision.transforms import ToTensor\n",
    "import sys\n",
    "sys.path.append('/ssd_scratch/harish.j/SISR/utils/')\n",
    "from metrics import evaluate_sr\n",
    "from patch_dataset import PatchSRDataset\n",
    "from vdsr import VDSR\n",
    "from train import train_model"
   ]
  },
  {
   "cell_type": "code",
   "execution_count": null,
   "id": "310f5595",
   "metadata": {},
   "outputs": [],
   "source": [
    "#Loader\n",
    "train_dataset = PatchSRDataset(\n",
    "    lr_dir=\"/ssd_scratch/harish.j/SISR/data/image_super_resolution_dataset/scaling_4x/train/LR/\",\n",
    "    hr_dir=\"/ssd_scratch/harish.j/SISR/data/image_super_resolution_dataset/scaling_4x/train/HR/\",\n",
    "    patch_size=48,\n",
    "    scale=4,\n",
    "    augment=True\n",
    ")\n",
    "train_loader = DataLoader(train_dataset, batch_size=16, shuffle=True)\n"
   ]
  },
  {
   "cell_type": "code",
   "execution_count": 15,
   "id": "e55e462d",
   "metadata": {},
   "outputs": [
    {
     "name": "stderr",
     "output_type": "stream",
     "text": [
      "Epoch 1/50: 100%|████████████████████| 50/50 [00:00<00:00, 63.13it/s, Loss=0.00532]\n"
     ]
    },
    {
     "name": "stdout",
     "output_type": "stream",
     "text": [
      "Epoch [1/50] - Loss: 0.005326\n"
     ]
    },
    {
     "name": "stderr",
     "output_type": "stream",
     "text": [
      "Epoch 2/50: 100%|████████████████████| 50/50 [00:00<00:00, 59.79it/s, Loss=0.00446]\n"
     ]
    },
    {
     "name": "stdout",
     "output_type": "stream",
     "text": [
      "Epoch [2/50] - Loss: 0.005286\n"
     ]
    },
    {
     "name": "stderr",
     "output_type": "stream",
     "text": [
      "Epoch 3/50: 100%|████████████████████| 50/50 [00:00<00:00, 65.18it/s, Loss=0.00625]\n"
     ]
    },
    {
     "name": "stdout",
     "output_type": "stream",
     "text": [
      "Epoch [3/50] - Loss: 0.005285\n"
     ]
    },
    {
     "name": "stderr",
     "output_type": "stream",
     "text": [
      "Epoch 4/50: 100%|████████████████████| 50/50 [00:00<00:00, 61.83it/s, Loss=0.00443]\n"
     ]
    },
    {
     "name": "stdout",
     "output_type": "stream",
     "text": [
      "Epoch [4/50] - Loss: 0.005285\n"
     ]
    },
    {
     "name": "stderr",
     "output_type": "stream",
     "text": [
      "Epoch 5/50: 100%|████████████████████| 50/50 [00:00<00:00, 61.49it/s, Loss=0.00878]\n"
     ]
    },
    {
     "name": "stdout",
     "output_type": "stream",
     "text": [
      "Epoch [5/50] - Loss: 0.005285\n"
     ]
    },
    {
     "name": "stderr",
     "output_type": "stream",
     "text": [
      "Epoch 6/50: 100%|████████████████████| 50/50 [00:00<00:00, 62.32it/s, Loss=0.00462]\n"
     ]
    },
    {
     "name": "stdout",
     "output_type": "stream",
     "text": [
      "Epoch [6/50] - Loss: 0.005284\n"
     ]
    },
    {
     "name": "stderr",
     "output_type": "stream",
     "text": [
      "Epoch 7/50: 100%|█████████████████████| 50/50 [00:00<00:00, 57.64it/s, Loss=0.0071]\n"
     ]
    },
    {
     "name": "stdout",
     "output_type": "stream",
     "text": [
      "Epoch [7/50] - Loss: 0.005285\n"
     ]
    },
    {
     "name": "stderr",
     "output_type": "stream",
     "text": [
      "Epoch 8/50: 100%|████████████████████| 50/50 [00:00<00:00, 60.72it/s, Loss=0.00346]\n"
     ]
    },
    {
     "name": "stdout",
     "output_type": "stream",
     "text": [
      "Epoch [8/50] - Loss: 0.005285\n"
     ]
    },
    {
     "name": "stderr",
     "output_type": "stream",
     "text": [
      "Epoch 9/50: 100%|████████████████████| 50/50 [00:00<00:00, 59.90it/s, Loss=0.00369]\n"
     ]
    },
    {
     "name": "stdout",
     "output_type": "stream",
     "text": [
      "Epoch [9/50] - Loss: 0.005285\n"
     ]
    },
    {
     "name": "stderr",
     "output_type": "stream",
     "text": [
      "Epoch 10/50: 100%|███████████████████| 50/50 [00:00<00:00, 61.19it/s, Loss=0.00342]\n"
     ]
    },
    {
     "name": "stdout",
     "output_type": "stream",
     "text": [
      "Epoch [10/50] - Loss: 0.005285\n"
     ]
    },
    {
     "name": "stderr",
     "output_type": "stream",
     "text": [
      "Epoch 11/50: 100%|███████████████████| 50/50 [00:00<00:00, 62.69it/s, Loss=0.00959]\n"
     ]
    },
    {
     "name": "stdout",
     "output_type": "stream",
     "text": [
      "Epoch [11/50] - Loss: 0.005284\n"
     ]
    },
    {
     "name": "stderr",
     "output_type": "stream",
     "text": [
      "Epoch 12/50: 100%|███████████████████| 50/50 [00:00<00:00, 59.35it/s, Loss=0.00416]\n"
     ]
    },
    {
     "name": "stdout",
     "output_type": "stream",
     "text": [
      "Epoch [12/50] - Loss: 0.005284\n"
     ]
    },
    {
     "name": "stderr",
     "output_type": "stream",
     "text": [
      "Epoch 13/50: 100%|███████████████████| 50/50 [00:00<00:00, 66.78it/s, Loss=0.00591]\n"
     ]
    },
    {
     "name": "stdout",
     "output_type": "stream",
     "text": [
      "Epoch [13/50] - Loss: 0.005284\n"
     ]
    },
    {
     "name": "stderr",
     "output_type": "stream",
     "text": [
      "Epoch 14/50: 100%|███████████████████| 50/50 [00:00<00:00, 63.51it/s, Loss=0.00654]\n"
     ]
    },
    {
     "name": "stdout",
     "output_type": "stream",
     "text": [
      "Epoch [14/50] - Loss: 0.005284\n"
     ]
    },
    {
     "name": "stderr",
     "output_type": "stream",
     "text": [
      "Epoch 15/50: 100%|███████████████████| 50/50 [00:00<00:00, 63.60it/s, Loss=0.00496]\n"
     ]
    },
    {
     "name": "stdout",
     "output_type": "stream",
     "text": [
      "Epoch [15/50] - Loss: 0.005284\n"
     ]
    },
    {
     "name": "stderr",
     "output_type": "stream",
     "text": [
      "Epoch 16/50: 100%|███████████████████| 50/50 [00:00<00:00, 54.26it/s, Loss=0.00663]\n"
     ]
    },
    {
     "name": "stdout",
     "output_type": "stream",
     "text": [
      "Epoch [16/50] - Loss: 0.005284\n"
     ]
    },
    {
     "name": "stderr",
     "output_type": "stream",
     "text": [
      "Epoch 17/50: 100%|███████████████████| 50/50 [00:00<00:00, 58.14it/s, Loss=0.00404]\n"
     ]
    },
    {
     "name": "stdout",
     "output_type": "stream",
     "text": [
      "Epoch [17/50] - Loss: 0.005284\n"
     ]
    },
    {
     "name": "stderr",
     "output_type": "stream",
     "text": [
      "Epoch 18/50: 100%|███████████████████| 50/50 [00:00<00:00, 60.32it/s, Loss=0.00446]\n"
     ]
    },
    {
     "name": "stdout",
     "output_type": "stream",
     "text": [
      "Epoch [18/50] - Loss: 0.005284\n"
     ]
    },
    {
     "name": "stderr",
     "output_type": "stream",
     "text": [
      "Epoch 19/50: 100%|███████████████████| 50/50 [00:00<00:00, 56.43it/s, Loss=0.00335]\n"
     ]
    },
    {
     "name": "stdout",
     "output_type": "stream",
     "text": [
      "Epoch [19/50] - Loss: 0.005284\n"
     ]
    },
    {
     "name": "stderr",
     "output_type": "stream",
     "text": [
      "Epoch 20/50: 100%|███████████████████| 50/50 [00:00<00:00, 58.39it/s, Loss=0.00303]\n"
     ]
    },
    {
     "name": "stdout",
     "output_type": "stream",
     "text": [
      "Epoch [20/50] - Loss: 0.005284\n"
     ]
    },
    {
     "name": "stderr",
     "output_type": "stream",
     "text": [
      "Epoch 21/50: 100%|███████████████████| 50/50 [00:00<00:00, 57.06it/s, Loss=0.00511]\n"
     ]
    },
    {
     "name": "stdout",
     "output_type": "stream",
     "text": [
      "Epoch [21/50] - Loss: 0.005284\n"
     ]
    },
    {
     "name": "stderr",
     "output_type": "stream",
     "text": [
      "Epoch 22/50: 100%|███████████████████| 50/50 [00:00<00:00, 56.54it/s, Loss=0.00561]\n"
     ]
    },
    {
     "name": "stdout",
     "output_type": "stream",
     "text": [
      "Epoch [22/50] - Loss: 0.005284\n"
     ]
    },
    {
     "name": "stderr",
     "output_type": "stream",
     "text": [
      "Epoch 23/50: 100%|███████████████████| 50/50 [00:00<00:00, 56.75it/s, Loss=0.00486]\n"
     ]
    },
    {
     "name": "stdout",
     "output_type": "stream",
     "text": [
      "Epoch [23/50] - Loss: 0.005284\n"
     ]
    },
    {
     "name": "stderr",
     "output_type": "stream",
     "text": [
      "Epoch 24/50: 100%|████████████████████| 50/50 [00:00<00:00, 61.45it/s, Loss=0.0067]\n"
     ]
    },
    {
     "name": "stdout",
     "output_type": "stream",
     "text": [
      "Epoch [24/50] - Loss: 0.005284\n"
     ]
    },
    {
     "name": "stderr",
     "output_type": "stream",
     "text": [
      "Epoch 25/50: 100%|███████████████████| 50/50 [00:00<00:00, 58.40it/s, Loss=0.00439]\n"
     ]
    },
    {
     "name": "stdout",
     "output_type": "stream",
     "text": [
      "Epoch [25/50] - Loss: 0.005284\n"
     ]
    },
    {
     "name": "stderr",
     "output_type": "stream",
     "text": [
      "Epoch 26/50: 100%|███████████████████| 50/50 [00:00<00:00, 62.37it/s, Loss=0.00746]\n"
     ]
    },
    {
     "name": "stdout",
     "output_type": "stream",
     "text": [
      "Epoch [26/50] - Loss: 0.005284\n"
     ]
    },
    {
     "name": "stderr",
     "output_type": "stream",
     "text": [
      "Epoch 27/50: 100%|███████████████████| 50/50 [00:00<00:00, 59.58it/s, Loss=0.00534]\n"
     ]
    },
    {
     "name": "stdout",
     "output_type": "stream",
     "text": [
      "Epoch [27/50] - Loss: 0.005284\n"
     ]
    },
    {
     "name": "stderr",
     "output_type": "stream",
     "text": [
      "Epoch 28/50: 100%|███████████████████| 50/50 [00:00<00:00, 60.48it/s, Loss=0.00562]\n"
     ]
    },
    {
     "name": "stdout",
     "output_type": "stream",
     "text": [
      "Epoch [28/50] - Loss: 0.005284\n"
     ]
    },
    {
     "name": "stderr",
     "output_type": "stream",
     "text": [
      "Epoch 29/50: 100%|███████████████████| 50/50 [00:00<00:00, 63.38it/s, Loss=0.00595]\n"
     ]
    },
    {
     "name": "stdout",
     "output_type": "stream",
     "text": [
      "Epoch [29/50] - Loss: 0.005284\n"
     ]
    },
    {
     "name": "stderr",
     "output_type": "stream",
     "text": [
      "Epoch 30/50: 100%|████████████████████| 50/50 [00:00<00:00, 65.57it/s, Loss=0.0035]\n"
     ]
    },
    {
     "name": "stdout",
     "output_type": "stream",
     "text": [
      "Epoch [30/50] - Loss: 0.005284\n"
     ]
    },
    {
     "name": "stderr",
     "output_type": "stream",
     "text": [
      "Epoch 31/50: 100%|███████████████████| 50/50 [00:00<00:00, 64.51it/s, Loss=0.00768]\n"
     ]
    },
    {
     "name": "stdout",
     "output_type": "stream",
     "text": [
      "Epoch [31/50] - Loss: 0.005284\n"
     ]
    },
    {
     "name": "stderr",
     "output_type": "stream",
     "text": [
      "Epoch 32/50: 100%|███████████████████| 50/50 [00:00<00:00, 57.34it/s, Loss=0.00501]\n"
     ]
    },
    {
     "name": "stdout",
     "output_type": "stream",
     "text": [
      "Epoch [32/50] - Loss: 0.005284\n"
     ]
    },
    {
     "name": "stderr",
     "output_type": "stream",
     "text": [
      "Epoch 33/50: 100%|███████████████████| 50/50 [00:00<00:00, 58.99it/s, Loss=0.00328]\n"
     ]
    },
    {
     "name": "stdout",
     "output_type": "stream",
     "text": [
      "Epoch [33/50] - Loss: 0.005284\n"
     ]
    },
    {
     "name": "stderr",
     "output_type": "stream",
     "text": [
      "Epoch 34/50: 100%|███████████████████| 50/50 [00:00<00:00, 58.91it/s, Loss=0.00224]\n"
     ]
    },
    {
     "name": "stdout",
     "output_type": "stream",
     "text": [
      "Epoch [34/50] - Loss: 0.005284\n"
     ]
    },
    {
     "name": "stderr",
     "output_type": "stream",
     "text": [
      "Epoch 35/50: 100%|███████████████████| 50/50 [00:00<00:00, 60.66it/s, Loss=0.00348]\n"
     ]
    },
    {
     "name": "stdout",
     "output_type": "stream",
     "text": [
      "Epoch [35/50] - Loss: 0.005284\n"
     ]
    },
    {
     "name": "stderr",
     "output_type": "stream",
     "text": [
      "Epoch 36/50: 100%|███████████████████| 50/50 [00:00<00:00, 61.89it/s, Loss=0.00426]\n"
     ]
    },
    {
     "name": "stdout",
     "output_type": "stream",
     "text": [
      "Epoch [36/50] - Loss: 0.005284\n"
     ]
    },
    {
     "name": "stderr",
     "output_type": "stream",
     "text": [
      "Epoch 37/50: 100%|███████████████████| 50/50 [00:00<00:00, 59.25it/s, Loss=0.00542]\n"
     ]
    },
    {
     "name": "stdout",
     "output_type": "stream",
     "text": [
      "Epoch [37/50] - Loss: 0.005284\n"
     ]
    },
    {
     "name": "stderr",
     "output_type": "stream",
     "text": [
      "Epoch 38/50: 100%|███████████████████| 50/50 [00:00<00:00, 62.92it/s, Loss=0.00498]\n"
     ]
    },
    {
     "name": "stdout",
     "output_type": "stream",
     "text": [
      "Epoch [38/50] - Loss: 0.005284\n"
     ]
    },
    {
     "name": "stderr",
     "output_type": "stream",
     "text": [
      "Epoch 39/50: 100%|███████████████████| 50/50 [00:00<00:00, 59.32it/s, Loss=0.00564]\n"
     ]
    },
    {
     "name": "stdout",
     "output_type": "stream",
     "text": [
      "Epoch [39/50] - Loss: 0.005284\n"
     ]
    },
    {
     "name": "stderr",
     "output_type": "stream",
     "text": [
      "Epoch 40/50: 100%|███████████████████| 50/50 [00:00<00:00, 62.42it/s, Loss=0.00669]\n"
     ]
    },
    {
     "name": "stdout",
     "output_type": "stream",
     "text": [
      "Epoch [40/50] - Loss: 0.005284\n"
     ]
    },
    {
     "name": "stderr",
     "output_type": "stream",
     "text": [
      "Epoch 41/50: 100%|███████████████████| 50/50 [00:00<00:00, 62.02it/s, Loss=0.00327]\n"
     ]
    },
    {
     "name": "stdout",
     "output_type": "stream",
     "text": [
      "Epoch [41/50] - Loss: 0.005284\n"
     ]
    },
    {
     "name": "stderr",
     "output_type": "stream",
     "text": [
      "Epoch 42/50: 100%|███████████████████| 50/50 [00:00<00:00, 56.56it/s, Loss=0.00493]\n"
     ]
    },
    {
     "name": "stdout",
     "output_type": "stream",
     "text": [
      "Epoch [42/50] - Loss: 0.005284\n"
     ]
    },
    {
     "name": "stderr",
     "output_type": "stream",
     "text": [
      "Epoch 43/50: 100%|███████████████████| 50/50 [00:00<00:00, 61.15it/s, Loss=0.00337]\n"
     ]
    },
    {
     "name": "stdout",
     "output_type": "stream",
     "text": [
      "Epoch [43/50] - Loss: 0.005284\n"
     ]
    },
    {
     "name": "stderr",
     "output_type": "stream",
     "text": [
      "Epoch 44/50: 100%|███████████████████| 50/50 [00:00<00:00, 58.13it/s, Loss=0.00722]\n"
     ]
    },
    {
     "name": "stdout",
     "output_type": "stream",
     "text": [
      "Epoch [44/50] - Loss: 0.005284\n"
     ]
    },
    {
     "name": "stderr",
     "output_type": "stream",
     "text": [
      "Epoch 45/50: 100%|███████████████████| 50/50 [00:00<00:00, 60.89it/s, Loss=0.00536]\n"
     ]
    },
    {
     "name": "stdout",
     "output_type": "stream",
     "text": [
      "Epoch [45/50] - Loss: 0.005284\n"
     ]
    },
    {
     "name": "stderr",
     "output_type": "stream",
     "text": [
      "Epoch 46/50: 100%|███████████████████| 50/50 [00:00<00:00, 62.59it/s, Loss=0.00356]\n"
     ]
    },
    {
     "name": "stdout",
     "output_type": "stream",
     "text": [
      "Epoch [46/50] - Loss: 0.005284\n"
     ]
    },
    {
     "name": "stderr",
     "output_type": "stream",
     "text": [
      "Epoch 47/50: 100%|███████████████████| 50/50 [00:00<00:00, 55.82it/s, Loss=0.00547]\n"
     ]
    },
    {
     "name": "stdout",
     "output_type": "stream",
     "text": [
      "Epoch [47/50] - Loss: 0.005284\n"
     ]
    },
    {
     "name": "stderr",
     "output_type": "stream",
     "text": [
      "Epoch 48/50: 100%|███████████████████| 50/50 [00:00<00:00, 59.56it/s, Loss=0.00635]\n"
     ]
    },
    {
     "name": "stdout",
     "output_type": "stream",
     "text": [
      "Epoch [48/50] - Loss: 0.005284\n"
     ]
    },
    {
     "name": "stderr",
     "output_type": "stream",
     "text": [
      "Epoch 49/50: 100%|███████████████████| 50/50 [00:00<00:00, 58.07it/s, Loss=0.00391]\n"
     ]
    },
    {
     "name": "stdout",
     "output_type": "stream",
     "text": [
      "Epoch [49/50] - Loss: 0.005284\n"
     ]
    },
    {
     "name": "stderr",
     "output_type": "stream",
     "text": [
      "Epoch 50/50: 100%|███████████████████| 50/50 [00:00<00:00, 58.09it/s, Loss=0.00521]"
     ]
    },
    {
     "name": "stdout",
     "output_type": "stream",
     "text": [
      "Epoch [50/50] - Loss: 0.005284\n",
      "Model saved to /ssd_scratch/harish.j/SISR/weights/vdsr_4x.pth\n"
     ]
    },
    {
     "name": "stderr",
     "output_type": "stream",
     "text": [
      "\n"
     ]
    }
   ],
   "source": [
    "device = torch.device(\"cuda\" if torch.cuda.is_available() else \"cpu\")\n",
    "model = VDSR()\n",
    "train_model(\n",
    "    model=model,\n",
    "    train_loader=train_loader,\n",
    "    device=device,\n",
    "    epochs=50,\n",
    "    lr=1e-3,\n",
    "    save_path=\"/ssd_scratch/harish.j/SISR/weights/vdsr_4x.pth\"\n",
    ")"
   ]
  },
  {
   "cell_type": "code",
   "execution_count": null,
   "id": "23ddf511",
   "metadata": {},
   "outputs": [
    {
     "data": {
      "text/plain": [
       "VDSR(\n",
       "  (net): Sequential(\n",
       "    (0): Conv2d(3, 64, kernel_size=(3, 3), stride=(1, 1), padding=(1, 1))\n",
       "    (1): ReLU(inplace=True)\n",
       "    (2): Conv2d(64, 64, kernel_size=(3, 3), stride=(1, 1), padding=(1, 1))\n",
       "    (3): ReLU(inplace=True)\n",
       "    (4): Conv2d(64, 64, kernel_size=(3, 3), stride=(1, 1), padding=(1, 1))\n",
       "    (5): ReLU(inplace=True)\n",
       "    (6): Conv2d(64, 64, kernel_size=(3, 3), stride=(1, 1), padding=(1, 1))\n",
       "    (7): ReLU(inplace=True)\n",
       "    (8): Conv2d(64, 64, kernel_size=(3, 3), stride=(1, 1), padding=(1, 1))\n",
       "    (9): ReLU(inplace=True)\n",
       "    (10): Conv2d(64, 64, kernel_size=(3, 3), stride=(1, 1), padding=(1, 1))\n",
       "    (11): ReLU(inplace=True)\n",
       "    (12): Conv2d(64, 64, kernel_size=(3, 3), stride=(1, 1), padding=(1, 1))\n",
       "    (13): ReLU(inplace=True)\n",
       "    (14): Conv2d(64, 64, kernel_size=(3, 3), stride=(1, 1), padding=(1, 1))\n",
       "    (15): ReLU(inplace=True)\n",
       "    (16): Conv2d(64, 64, kernel_size=(3, 3), stride=(1, 1), padding=(1, 1))\n",
       "    (17): ReLU(inplace=True)\n",
       "    (18): Conv2d(64, 64, kernel_size=(3, 3), stride=(1, 1), padding=(1, 1))\n",
       "    (19): ReLU(inplace=True)\n",
       "    (20): Conv2d(64, 64, kernel_size=(3, 3), stride=(1, 1), padding=(1, 1))\n",
       "    (21): ReLU(inplace=True)\n",
       "    (22): Conv2d(64, 64, kernel_size=(3, 3), stride=(1, 1), padding=(1, 1))\n",
       "    (23): ReLU(inplace=True)\n",
       "    (24): Conv2d(64, 64, kernel_size=(3, 3), stride=(1, 1), padding=(1, 1))\n",
       "    (25): ReLU(inplace=True)\n",
       "    (26): Conv2d(64, 64, kernel_size=(3, 3), stride=(1, 1), padding=(1, 1))\n",
       "    (27): ReLU(inplace=True)\n",
       "    (28): Conv2d(64, 64, kernel_size=(3, 3), stride=(1, 1), padding=(1, 1))\n",
       "    (29): ReLU(inplace=True)\n",
       "    (30): Conv2d(64, 64, kernel_size=(3, 3), stride=(1, 1), padding=(1, 1))\n",
       "    (31): ReLU(inplace=True)\n",
       "    (32): Conv2d(64, 64, kernel_size=(3, 3), stride=(1, 1), padding=(1, 1))\n",
       "    (33): ReLU(inplace=True)\n",
       "    (34): Conv2d(64, 64, kernel_size=(3, 3), stride=(1, 1), padding=(1, 1))\n",
       "    (35): ReLU(inplace=True)\n",
       "    (36): Conv2d(64, 64, kernel_size=(3, 3), stride=(1, 1), padding=(1, 1))\n",
       "    (37): ReLU(inplace=True)\n",
       "    (38): Conv2d(64, 3, kernel_size=(3, 3), stride=(1, 1), padding=(1, 1))\n",
       "  )\n",
       ")"
      ]
     },
     "execution_count": 17,
     "metadata": {},
     "output_type": "execute_result"
    }
   ],
   "source": [
    "\n",
    "model = VDSR()  \n",
    "model.load_state_dict(torch.load(\"/ssd_scratch/harish.j/SISR/weights/vdsr_4x.pth\"))\n",
    "model.eval().cuda()  \n"
   ]
  },
  {
   "cell_type": "code",
   "execution_count": null,
   "id": "c80bd073",
   "metadata": {},
   "outputs": [],
   "source": [
    "import os\n",
    "import torchvision.transforms as T\n",
    "from torchvision.utils import save_image\n",
    "\n",
    "\n",
    "output_dir = \"/ssd_scratch/harish.j/SISR/outputs/VDSR\"\n",
    "os.makedirs(output_dir, exist_ok=True)\n",
    "\n",
    "\n",
    "test_dataset = SuperResolutionDataset(root=\"/ssd_scratch/harish.j/SISR/data/image_super_resolution/test/LR/\", patch_size=None, is_train=False)\n",
    "test_loader = DataLoader(test_dataset, batch_size=1, shuffle=False)\n",
    "\n",
    "to_pil = T.ToPILImage()\n",
    "\n",
    "with torch.no_grad():\n",
    "    for idx, (lr, hr) in enumerate(test_loader):\n",
    "        lr = lr.cuda()\n",
    "        sr = model(lr)\n",
    "\n",
    "    \n",
    "        save_path = os.path.join(output_dir, f\"sr_{idx:04d}.png\")\n",
    "        save_image(sr.clamp(0, 1), save_path)  # assumes input in [0,1] range\n"
   ]
  },
  {
   "cell_type": "code",
   "execution_count": null,
   "id": "0a2235c9",
   "metadata": {},
   "outputs": [
    {
     "name": "stdout",
     "output_type": "stream",
     "text": [
      "Saved all SR images to /ssd_scratch/harish.j/SISR/outputs/VDSR\n"
     ]
    }
   ],
   "source": [
    "from torchvision import transforms\n",
    "from torchvision.utils import save_image\n",
    "from PIL import Image\n",
    "\n",
    "input_dir = \"/ssd_scratch/harish.j/SISR/data/image_super_resolution_dataset/scaling_4x/test/LR/\"                     # Folder with 20 PNGs\n",
    "output_dir = \"/ssd_scratch/harish.j/SISR/outputs/VDSR\"              # Where to save output PNGs\n",
    "weights_path = \"/ssd_scratch/harish.j/SISR/weights/vdsr_4x.pth\"\n",
    "\n",
    "os.makedirs(output_dir, exist_ok=True)\n",
    "\n",
    "model = VDSR()\n",
    "model.load_state_dict(torch.load(weights_path))\n",
    "model.eval().cuda()\n",
    "\n",
    "to_tensor = transforms.ToTensor()  # Converts [0-255] PIL to [0-1] Tensor\n",
    "\n",
    "with torch.no_grad():\n",
    "    for filename in sorted(os.listdir(input_dir)):\n",
    "        if not filename.lower().endswith(\".png\"):\n",
    "            continue\n",
    "\n",
    "        img_path = os.path.join(input_dir, filename)\n",
    "        img = Image.open(img_path).convert(\"RGB\")\n",
    "        lr_tensor = to_tensor(img).unsqueeze(0).cuda()  # Shape: (1, 3, H, W)\n",
    "\n",
    "     \n",
    "        sr_tensor = model(lr_tensor).clamp(0, 1)  # (1, 3, H, W)\n",
    "\n",
    "\n",
    "        save_path = os.path.join(output_dir, f\"SR_{filename}\")\n",
    "        save_image(sr_tensor.squeeze(0), save_path)\n",
    "\n",
    "print(f\"Saved all SR images to {output_dir}\")\n"
   ]
  },
  {
   "cell_type": "code",
   "execution_count": null,
   "id": "3be1bfb4",
   "metadata": {},
   "outputs": [
    {
     "ename": "ValueError",
     "evalue": "Shape mismatch: 102061.png vs SR_102061.png",
     "output_type": "error",
     "traceback": [
      "\u001b[0;31m---------------------------------------------------------------------------\u001b[0m",
      "\u001b[0;31mValueError\u001b[0m                                Traceback (most recent call last)",
      "Cell \u001b[0;32mIn[28], line 1\u001b[0m\n\u001b[0;32m----> 1\u001b[0m \u001b[43mevaluate_sr\u001b[49m\u001b[43m(\u001b[49m\n\u001b[1;32m      2\u001b[0m \u001b[43m    \u001b[49m\u001b[43msr_dir\u001b[49m\u001b[38;5;241;43m=\u001b[39;49m\u001b[38;5;124;43m\"\u001b[39;49m\u001b[38;5;124;43m/ssd_scratch/harish.j/SISR/outputs/VDSR/\u001b[39;49m\u001b[38;5;124;43m\"\u001b[39;49m\u001b[43m,\u001b[49m\n\u001b[1;32m      3\u001b[0m \u001b[43m    \u001b[49m\u001b[43mgt_dir\u001b[49m\u001b[38;5;241;43m=\u001b[39;49m\u001b[38;5;124;43m\"\u001b[39;49m\u001b[38;5;124;43m/ssd_scratch/harish.j/SISR/data/image_super_resolution_dataset/scaling_4x/test/HR/\u001b[39;49m\u001b[38;5;124;43m\"\u001b[39;49m\n\u001b[1;32m      4\u001b[0m \u001b[43m)\u001b[49m\n",
      "File \u001b[0;32m/ssd_scratch/harish.j/SISR/utils/metrics.py:24\u001b[0m, in \u001b[0;36mevaluate_sr\u001b[0;34m(gt_dir, sr_dir)\u001b[0m\n\u001b[1;32m     21\u001b[0m sr_img \u001b[38;5;241m=\u001b[39m cv2\u001b[38;5;241m.\u001b[39mcvtColor(sr_img, cv2\u001b[38;5;241m.\u001b[39mCOLOR_BGR2RGB)\n\u001b[1;32m     23\u001b[0m \u001b[38;5;28;01mif\u001b[39;00m gt_img\u001b[38;5;241m.\u001b[39mshape \u001b[38;5;241m!=\u001b[39m sr_img\u001b[38;5;241m.\u001b[39mshape:\n\u001b[0;32m---> 24\u001b[0m     \u001b[38;5;28;01mraise\u001b[39;00m \u001b[38;5;167;01mValueError\u001b[39;00m(\u001b[38;5;124mf\u001b[39m\u001b[38;5;124m\"\u001b[39m\u001b[38;5;124mShape mismatch: \u001b[39m\u001b[38;5;132;01m{\u001b[39;00mgt_name\u001b[38;5;132;01m}\u001b[39;00m\u001b[38;5;124m vs \u001b[39m\u001b[38;5;132;01m{\u001b[39;00msr_name\u001b[38;5;132;01m}\u001b[39;00m\u001b[38;5;124m\"\u001b[39m)\n\u001b[1;32m     26\u001b[0m psnr \u001b[38;5;241m=\u001b[39m peak_signal_noise_ratio(gt_img, sr_img, data_range\u001b[38;5;241m=\u001b[39m\u001b[38;5;241m255\u001b[39m)\n\u001b[1;32m     27\u001b[0m ssim \u001b[38;5;241m=\u001b[39m structural_similarity(gt_img, sr_img, multichannel\u001b[38;5;241m=\u001b[39m\u001b[38;5;28;01mTrue\u001b[39;00m, data_range\u001b[38;5;241m=\u001b[39m\u001b[38;5;241m255\u001b[39m)\n",
      "\u001b[0;31mValueError\u001b[0m: Shape mismatch: 102061.png vs SR_102061.png"
     ]
    }
   ],
   "source": [
    "evaluate_sr(\n",
    "    sr_dir=\"/ssd_scratch/harish.j/SISR/outputs/VDSR/\",\n",
    "    gt_dir=\"/ssd_scratch/harish.j/SISR/data/image_super_resolution_dataset/scaling_4x/test/HR/\"\n",
    ")\n"
   ]
  },
  {
   "cell_type": "code",
   "execution_count": null,
   "id": "b953dda5",
   "metadata": {},
   "outputs": [],
   "source": [
    "import matplotlib.pyplot as plt\n",
    "model.load_state_dict(torch.load(\"/ssd_scratch/harish.j/SISR/weights/Dipnet_sr.pth\"))\n",
    "\n",
    "high_res, low_res = test_dataset[1]\n",
    "low_res = low_res.unsqueeze(0)\n",
    "low_res = low_res.to(torch.float)\n",
    "output = trainer.predict(low_res)\n",
    "\n",
    "fig, ax = plt.subplots(1, 3, figsize=(15, 5))\n",
    "ax[0].imshow(high_res.permute(1,2, 0))\n",
    "ax[0].set_title(\"High Resolution\")\n",
    "ax[1].imshow(low_res.squeeze(0).permute(1,2, 0))\n",
    "ax[1].set_title(\"Low Resolution\")\n",
    "# print(\"Low Res Shape: \", low_res.squeeze(0).shape)\n",
    "# print(\"Output Shape: \", output.shape)\n",
    "ax[2].imshow(output.cpu().squeeze(0).permute(1,2, 0))\n",
    "ax[2].set_title(\"Predicted High Resolution\")\n",
    "plt.show()"
   ]
  }
 ],
 "metadata": {
  "kernelspec": {
   "display_name": "Python 3 (ipykernel)",
   "language": "python",
   "name": "python3"
  },
  "language_info": {
   "codemirror_mode": {
    "name": "ipython",
    "version": 3
   },
   "file_extension": ".py",
   "mimetype": "text/x-python",
   "name": "python",
   "nbconvert_exporter": "python",
   "pygments_lexer": "ipython3",
   "version": "3.9.21"
  }
 },
 "nbformat": 4,
 "nbformat_minor": 5
}
